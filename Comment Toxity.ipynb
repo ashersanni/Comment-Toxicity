{
 "cells": [
  {
   "cell_type": "code",
   "execution_count": 26,
   "id": "4d095932-e401-4bbb-80cb-dbd4078d2574",
   "metadata": {},
   "outputs": [],
   "source": [
    "import pandas as pd\n",
    "import spacy\n",
    "import numpy as np\n",
    "from sklearn.model_selection import train_test_split\n",
    "import matplotlib.pyplot as plt\n",
    "\n",
    "import torch\n",
    "import torch.nn as nn\n",
    "from torchtext.vocab import build_vocab_from_iterator\n",
    "import torch.nn.functional as F\n",
    "from torch.utils.data import Dataset, DataLoader, random_split\n",
    "\n",
    "from tqdm.auto import tqdm"
   ]
  },
  {
   "cell_type": "code",
   "execution_count": 27,
   "id": "8ae06665-b6a8-48aa-9682-6213c425d0b4",
   "metadata": {},
   "outputs": [],
   "source": [
    "df = pd.read_csv('train.csv')\n",
    "df = df[:1000]"
   ]
  },
  {
   "cell_type": "code",
   "execution_count": 28,
   "id": "94589590-033a-4dcc-8aa4-f1bae0f4a670",
   "metadata": {},
   "outputs": [
    {
     "name": "stdout",
     "output_type": "stream",
     "text": [
      "<class 'pandas.core.frame.DataFrame'>\n",
      "RangeIndex: 1000 entries, 0 to 999\n",
      "Data columns (total 8 columns):\n",
      " #   Column         Non-Null Count  Dtype \n",
      "---  ------         --------------  ----- \n",
      " 0   id             1000 non-null   object\n",
      " 1   comment_text   1000 non-null   object\n",
      " 2   toxic          1000 non-null   int64 \n",
      " 3   severe_toxic   1000 non-null   int64 \n",
      " 4   obscene        1000 non-null   int64 \n",
      " 5   threat         1000 non-null   int64 \n",
      " 6   insult         1000 non-null   int64 \n",
      " 7   identity_hate  1000 non-null   int64 \n",
      "dtypes: int64(6), object(2)\n",
      "memory usage: 62.6+ KB\n"
     ]
    }
   ],
   "source": [
    "#Exploring the data\n",
    "\n",
    "df.info()"
   ]
  },
  {
   "cell_type": "code",
   "execution_count": 29,
   "id": "1454a762-815a-4bf9-8c41-577811a0d81a",
   "metadata": {},
   "outputs": [
    {
     "data": {
      "text/html": [
       "<div>\n",
       "<style scoped>\n",
       "    .dataframe tbody tr th:only-of-type {\n",
       "        vertical-align: middle;\n",
       "    }\n",
       "\n",
       "    .dataframe tbody tr th {\n",
       "        vertical-align: top;\n",
       "    }\n",
       "\n",
       "    .dataframe thead th {\n",
       "        text-align: right;\n",
       "    }\n",
       "</style>\n",
       "<table border=\"1\" class=\"dataframe\">\n",
       "  <thead>\n",
       "    <tr style=\"text-align: right;\">\n",
       "      <th></th>\n",
       "      <th>id</th>\n",
       "      <th>comment_text</th>\n",
       "      <th>toxic</th>\n",
       "      <th>severe_toxic</th>\n",
       "      <th>obscene</th>\n",
       "      <th>threat</th>\n",
       "      <th>insult</th>\n",
       "      <th>identity_hate</th>\n",
       "    </tr>\n",
       "  </thead>\n",
       "  <tbody>\n",
       "    <tr>\n",
       "      <th>0</th>\n",
       "      <td>0000997932d777bf</td>\n",
       "      <td>Explanation\\nWhy the edits made under my usern...</td>\n",
       "      <td>0</td>\n",
       "      <td>0</td>\n",
       "      <td>0</td>\n",
       "      <td>0</td>\n",
       "      <td>0</td>\n",
       "      <td>0</td>\n",
       "    </tr>\n",
       "    <tr>\n",
       "      <th>1</th>\n",
       "      <td>000103f0d9cfb60f</td>\n",
       "      <td>D'aww! He matches this background colour I'm s...</td>\n",
       "      <td>0</td>\n",
       "      <td>0</td>\n",
       "      <td>0</td>\n",
       "      <td>0</td>\n",
       "      <td>0</td>\n",
       "      <td>0</td>\n",
       "    </tr>\n",
       "    <tr>\n",
       "      <th>2</th>\n",
       "      <td>000113f07ec002fd</td>\n",
       "      <td>Hey man, I'm really not trying to edit war. It...</td>\n",
       "      <td>0</td>\n",
       "      <td>0</td>\n",
       "      <td>0</td>\n",
       "      <td>0</td>\n",
       "      <td>0</td>\n",
       "      <td>0</td>\n",
       "    </tr>\n",
       "    <tr>\n",
       "      <th>3</th>\n",
       "      <td>0001b41b1c6bb37e</td>\n",
       "      <td>\"\\nMore\\nI can't make any real suggestions on ...</td>\n",
       "      <td>0</td>\n",
       "      <td>0</td>\n",
       "      <td>0</td>\n",
       "      <td>0</td>\n",
       "      <td>0</td>\n",
       "      <td>0</td>\n",
       "    </tr>\n",
       "    <tr>\n",
       "      <th>4</th>\n",
       "      <td>0001d958c54c6e35</td>\n",
       "      <td>You, sir, are my hero. Any chance you remember...</td>\n",
       "      <td>0</td>\n",
       "      <td>0</td>\n",
       "      <td>0</td>\n",
       "      <td>0</td>\n",
       "      <td>0</td>\n",
       "      <td>0</td>\n",
       "    </tr>\n",
       "  </tbody>\n",
       "</table>\n",
       "</div>"
      ],
      "text/plain": [
       "                 id                                       comment_text  toxic  \\\n",
       "0  0000997932d777bf  Explanation\\nWhy the edits made under my usern...      0   \n",
       "1  000103f0d9cfb60f  D'aww! He matches this background colour I'm s...      0   \n",
       "2  000113f07ec002fd  Hey man, I'm really not trying to edit war. It...      0   \n",
       "3  0001b41b1c6bb37e  \"\\nMore\\nI can't make any real suggestions on ...      0   \n",
       "4  0001d958c54c6e35  You, sir, are my hero. Any chance you remember...      0   \n",
       "\n",
       "   severe_toxic  obscene  threat  insult  identity_hate  \n",
       "0             0        0       0       0              0  \n",
       "1             0        0       0       0              0  \n",
       "2             0        0       0       0              0  \n",
       "3             0        0       0       0              0  \n",
       "4             0        0       0       0              0  "
      ]
     },
     "execution_count": 29,
     "metadata": {},
     "output_type": "execute_result"
    }
   ],
   "source": [
    "df.head()"
   ]
  },
  {
   "cell_type": "code",
   "execution_count": 30,
   "id": "1bdc6b30-2e4f-412e-8137-84d37c6cb3b2",
   "metadata": {},
   "outputs": [
    {
     "data": {
      "text/plain": [
       "['toxic', 'severe_toxic', 'obscene', 'threat', 'insult', 'identity_hate']"
      ]
     },
     "execution_count": 30,
     "metadata": {},
     "output_type": "execute_result"
    }
   ],
   "source": [
    "#Getting all the class names\n",
    "classes = df.select_dtypes(include = ['int64']).columns.to_list()\n",
    "classes"
   ]
  },
  {
   "cell_type": "code",
   "execution_count": 31,
   "id": "51faaf0f-df8c-4ca7-8147-61ded9e01b9a",
   "metadata": {},
   "outputs": [
    {
     "data": {
      "text/plain": [
       "[toxic\n",
       " 0    0.895\n",
       " 1    0.105\n",
       " Name: proportion, dtype: float64,\n",
       " severe_toxic\n",
       " 0    0.991\n",
       " 1    0.009\n",
       " Name: proportion, dtype: float64,\n",
       " obscene\n",
       " 0    0.951\n",
       " 1    0.049\n",
       " Name: proportion, dtype: float64,\n",
       " threat\n",
       " 0    0.996\n",
       " 1    0.004\n",
       " Name: proportion, dtype: float64,\n",
       " insult\n",
       " 0    0.946\n",
       " 1    0.054\n",
       " Name: proportion, dtype: float64,\n",
       " identity_hate\n",
       " 0    0.991\n",
       " 1    0.009\n",
       " Name: proportion, dtype: float64]"
      ]
     },
     "execution_count": 31,
     "metadata": {},
     "output_type": "execute_result"
    }
   ],
   "source": [
    "#Checking the ratio of data in each class\n",
    "[df[col].value_counts(normalize = True) for col in classes]"
   ]
  },
  {
   "cell_type": "markdown",
   "id": "13c37c60-dc7f-4235-a7f5-aeab9d4fa840",
   "metadata": {},
   "source": [
    "## Tokenizing The Text and Building Vocabulary"
   ]
  },
  {
   "cell_type": "code",
   "execution_count": 32,
   "id": "da80bae0-f3a6-4181-96a5-992297cc2469",
   "metadata": {},
   "outputs": [],
   "source": [
    "text = df['comment_text']"
   ]
  },
  {
   "cell_type": "code",
   "execution_count": 33,
   "id": "8934a9ca-aaf5-4584-a20c-ad2d95d337b0",
   "metadata": {},
   "outputs": [],
   "source": [
    "nlp = spacy.load('en_core_web_sm', enable=['tagger', 'morphologizer', 'attribute_ruler', 'lemmatizer'])\n",
    "VOCAB_SIZE = 10000\n",
    "def spacy_tokenizer(dataset):\n",
    "\n",
    "    tokenized_dataset = []\n",
    "    for doc in nlp.pipe(dataset):\n",
    "        tokenized_dataset.append([token.lemma_.lower() for token in doc if \n",
    "                                  not token.is_punct and \n",
    "                                  not token.is_space and \n",
    "                                  not token.is_stop and \n",
    "                                  token.is_alpha])\n",
    "    return tokenized_dataset\n",
    "\n",
    "vocab = build_vocab_from_iterator(spacy_tokenizer(text), specials = ['<unk>','<pad>'], max_tokens = VOCAB_SIZE)\n",
    "vocab.set_default_index(vocab['<unk>'])\n",
    "                                  "
   ]
  },
  {
   "cell_type": "markdown",
   "id": "4fd8bc2b-a646-4eef-b2b9-09c922020688",
   "metadata": {},
   "source": [
    "## Creating Training and Test Dataset"
   ]
  },
  {
   "cell_type": "code",
   "execution_count": 34,
   "id": "175c011d-9d9d-4725-9d12-983dc0715fbe",
   "metadata": {},
   "outputs": [
    {
     "data": {
      "image/png": "[encoded data removed]",
      "text/plain": [
       "<Figure size 640x480 with 1 Axes>"
      ]
     },
     "metadata": {},
     "output_type": "display_data"
    }
   ],
   "source": [
    "#Understanding the length of tokens in data\n",
    "comment_tokens = spacy_tokenizer(text)\n",
    "plt.hist(list(map(len, comment_tokens)), 50)\n",
    "plt.show()"
   ]
  },
  {
   "cell_type": "code",
   "execution_count": 35,
   "id": "9ed55da9-2af4-490f-b8d2-d2910be70da3",
   "metadata": {},
   "outputs": [],
   "source": [
    "def pad_tokens(data, pad_token, max_length):\n",
    "    if len(data)>=150:\n",
    "        return data[:max_length]\n",
    "    else:\n",
    "        return data + [pad_token]*(max_length - len(data))\n"
   ]
  },
  {
   "cell_type": "code",
   "execution_count": 36,
   "id": "1f11f96f-9ffc-418e-98ae-f7435ed64979",
   "metadata": {},
   "outputs": [],
   "source": [
    "#Creating a class for pytorch dataset\n",
    "class ToxicCommentDataset(Dataset):\n",
    "    def __init__(self, data, max_length, is_test = False):\n",
    "        self.data = data\n",
    "        self.max_length = max_length\n",
    "        self.is_test = is_test\n",
    "        self.pad_token = '<pad>'\n",
    "    def __len__(self):\n",
    "        return len(self.data)\n",
    "    \n",
    "    def __getitem__(self, index):\n",
    "        text = [self.data['comment_text'].values[index]]\n",
    "        tokens = spacy_tokenizer(text)[0]\n",
    "        output = torch.tensor(pad_tokens(vocab.lookup_indices(tokens),\n",
    "                                         vocab[self.pad_token],\n",
    "                                         self.max_length))\n",
    "        if self.is_test:\n",
    "            target = torch.tensor([0,0,0,0,0,0], dtype = torch.float)\n",
    "        else :\n",
    "            target = torch.tensor(self.data[classes].values[index], dtype = torch.float)\n",
    "        return output, target\n",
    "                                         \n",
    "        "
   ]
  },
  {
   "cell_type": "code",
   "execution_count": 37,
   "id": "5c645af5-dd46-4149-a3cc-b04b26421ff6",
   "metadata": {},
   "outputs": [],
   "source": [
    "#Dividing the dataset into training and testing sets\n",
    "\n",
    "MAX_LENGTH = 150\n",
    "test_ratio = 0.25\n",
    "train_dataset, test_dataset = train_test_split(df, test_size = test_ratio, shuffle = False)\n",
    "\n",
    "train = ToxicCommentDataset(data = train_dataset, max_length = MAX_LENGTH, is_test = False)\n",
    "test  = ToxicCommentDataset(data = test_dataset, max_length = MAX_LENGTH, is_test = True)"
   ]
  },
  {
   "cell_type": "markdown",
   "id": "6017e0ea-e958-4f47-9580-01c8f096ef81",
   "metadata": {},
   "source": [
    "## Creating Pytorch Data Loaders"
   ]
  },
  {
   "cell_type": "code",
   "execution_count": 38,
   "id": "2ffbfad2-71a0-44fe-975e-59ad6e00600d",
   "metadata": {},
   "outputs": [
    {
     "data": {
      "text/plain": [
       "(11, 4)"
      ]
     },
     "execution_count": 38,
     "metadata": {},
     "output_type": "execute_result"
    }
   ],
   "source": [
    "BATCH_SIZE = 64\n",
    "\n",
    "train_loader = DataLoader(dataset = train, \n",
    "                          batch_size = BATCH_SIZE,\n",
    "                          drop_last = True)\n",
    "test_loader = DataLoader(dataset = test,\n",
    "                         batch_size = BATCH_SIZE\n",
    "                        )\n",
    "len(train_loader),len(test_loader)"
   ]
  },
  {
   "cell_type": "code",
   "execution_count": 39,
   "id": "d83ffe21-9677-450c-ac47-3317aefecaf2",
   "metadata": {},
   "outputs": [
    {
     "name": "stdout",
     "output_type": "stream",
     "text": [
      "Training input shape: torch.Size([64, 150]), target shape: torch.Size([64, 6])\n"
     ]
    }
   ],
   "source": [
    "input, target = next(iter(train_loader))\n",
    "print(f'Training input shape: {input.shape}, target shape: {target.shape}')"
   ]
  },
  {
   "cell_type": "markdown",
   "id": "5e6661df-d79e-44d5-b3c4-ff25ea9c6c8d",
   "metadata": {},
   "source": [
    "## Building an LSTM Model"
   ]
  },
  {
   "cell_type": "code",
   "execution_count": 40,
   "id": "fee449f0-4d53-4304-8874-6bd8120e4667",
   "metadata": {},
   "outputs": [],
   "source": [
    "class ToxicCommentModel(nn.Module):\n",
    "    def __init__(self, learning_rate = 1e-3):\n",
    "        super().__init__()\n",
    "        self.emb_layer = nn.Embedding(num_embeddings = VOCAB_SIZE,\n",
    "                                      embedding_dim = 128,\n",
    "                                      padding_idx = 1)\n",
    "        self.bi_lstm = nn.LSTM(input_size = 128,\n",
    "                               hidden_size = 64,\n",
    "                               num_layers= 2,\n",
    "                               batch_first = True,\n",
    "                               bidirectional = True)\n",
    "        self.dropout1 = nn.Dropout(0.1)\n",
    "        self.linear1 = nn.Linear(128, 64)\n",
    "        self.relu = nn.ReLU()\n",
    "        self.dropout2 = nn.Dropout(0.2)\n",
    "        self.linear2 = nn.Linear(64, 6)\n",
    "        self.learning_rate = learning_rate\n",
    "\n",
    "    def forward(self, x):\n",
    "        x = self.emb_layer(x)\n",
    "        x, _ = self.bi_lstm(x)\n",
    "        x = self.dropout1(x)\n",
    "        x = self.relu(self.linear1(x)[:,-1,:])\n",
    "        x = self.dropout2(x)\n",
    "        return(self.linear2(x))\n",
    "\n",
    "    def predict(self,x):\n",
    "        pred_logits = self(x)\n",
    "        pred_labels = torch.softmax(pred_logits, dim = 1)\n",
    "        return pred_labels\n",
    "        \n",
    "        "
   ]
  },
  {
   "cell_type": "markdown",
   "id": "17494662-be49-4a0d-869d-37cc6e1736cf",
   "metadata": {},
   "source": [
    "## Create train & test loop functions"
   ]
  },
  {
   "cell_type": "code",
   "execution_count": 48,
   "id": "f9e78321-9ee9-46e6-879a-cc5944d793d7",
   "metadata": {},
   "outputs": [],
   "source": [
    "def train_step(model: nn.Module,\n",
    "               dataloader: DataLoader,\n",
    "               loss_fn: nn.Module,\n",
    "               optimizer: torch.optim.Optimizer):\n",
    "    model.train()\n",
    "    \n",
    "    #Setup train loss\n",
    "    train_loss = 0\n",
    "    #loop through data laoder data batches\n",
    "    for _, (X, y) in enumerate(dataloader):\n",
    "\n",
    "        #forward pass\n",
    "        y_logits = model(X)\n",
    "        loss = loss_fn(y_logits, y)\n",
    "        train_loss +=loss\n",
    "\n",
    "        optimizer.zero_grad()\n",
    "        loss.backward()\n",
    "        optimizer.step()\n",
    "    return train_loss/len(dataloader)\n",
    "\n",
    "def test_step(model: nn.Module,\n",
    "              dataloader: DataLoader,\n",
    "              loss_fn: nn.Module):\n",
    "    model.eval()\n",
    "    \n",
    "    #setup test loss    \n",
    "    test_loss = 0\n",
    "    #loop through test dataloader batches\n",
    "    for _,(X, y) in enumerate(dataloader):\n",
    "        y_logits = model(X)\n",
    "        loss = loss_fn(y_logits, y)\n",
    "        test_loss += loss\n",
    "\n",
    "    #return test loss\n",
    "    return test_loss"
   ]
  },
  {
   "cell_type": "markdown",
   "id": "856b83c4-8202-48b6-a4d0-3bbece25efa7",
   "metadata": {},
   "source": [
    "## Creating a train() function to combine train_step() and test_step()"
   ]
  },
  {
   "cell_type": "code",
   "execution_count": 49,
   "id": "1c05395a-59fc-4226-9ee4-bbb38cb1b326",
   "metadata": {},
   "outputs": [],
   "source": [
    "def train(model: nn.Module,\n",
    "          train_dataloader: DataLoader,\n",
    "          test_dataloader: DataLoader,\n",
    "          loss_fn: nn.Module,\n",
    "          optimizer: torch.optim.Optimizer,\n",
    "          epochs: int):\n",
    "    results = {'train_loss': [],\n",
    "               'test_loss': []\n",
    "              }\n",
    "\n",
    "    #loop through training and test sets for the number of steps\n",
    "    for epoch in tqdm(range(epochs)):\n",
    "        train_loss = train_step(model, train_loader, loss_fn, optimizer)\n",
    "        test_loss = test_step(model, test_loader, loss_fn)\n",
    "\n",
    "        print(\n",
    "            f\"Epoch: {epoch+1} | \"\n",
    "            f\"train_loss: {train_loss:.4f} | \"\n",
    "            f\"test_loss: {test_loss:.4f}  \"\n",
    "        )\n",
    "\n",
    "        results[\"train_loss\"].append(train_loss.item() if isinstance(train_loss, torch.Tensor) else train_loss)\n",
    "        results[\"test_loss\"].append(test_loss.item() if isinstance(test_loss, torch.Tensor) else test_loss)\n",
    "    # 6. Return the filled results at the end of the epochs\n",
    "    return results\n",
    "    "
   ]
  },
  {
   "cell_type": "markdown",
   "id": "cf95e686-3937-4b53-92f4-dcb98964cb41",
   "metadata": {},
   "source": [
    "## Training and Evaluation"
   ]
  },
  {
   "cell_type": "code",
   "execution_count": 50,
   "id": "8a2fe04e-4af3-4eaa-b777-ad573a48f1cd",
   "metadata": {},
   "outputs": [
    {
     "name": "stderr",
     "output_type": "stream",
     "text": [
      " 10%|████████▎                                                                          | 1/10 [00:05<00:51,  5.72s/it]"
     ]
    },
    {
     "name": "stdout",
     "output_type": "stream",
     "text": [
      "Epoch: 1 | train_loss: 0.3261 | test_loss: 0.0709  \n"
     ]
    },
    {
     "name": "stderr",
     "output_type": "stream",
     "text": [
      " 20%|████████████████▌                                                                  | 2/10 [00:15<01:02,  7.86s/it]"
     ]
    },
    {
     "name": "stdout",
     "output_type": "stream",
     "text": [
      "Epoch: 2 | train_loss: 0.1683 | test_loss: 0.1117  \n"
     ]
    },
    {
     "name": "stderr",
     "output_type": "stream",
     "text": [
      " 30%|████████████████████████▉                                                          | 3/10 [00:24<01:01,  8.74s/it]"
     ]
    },
    {
     "name": "stdout",
     "output_type": "stream",
     "text": [
      "Epoch: 3 | train_loss: 0.1523 | test_loss: 0.1499  \n"
     ]
    },
    {
     "name": "stderr",
     "output_type": "stream",
     "text": [
      " 40%|█████████████████████████████████▏                                                 | 4/10 [00:34<00:53,  8.91s/it]"
     ]
    },
    {
     "name": "stdout",
     "output_type": "stream",
     "text": [
      "Epoch: 4 | train_loss: 0.1536 | test_loss: 0.1410  \n"
     ]
    },
    {
     "name": "stderr",
     "output_type": "stream",
     "text": [
      " 50%|█████████████████████████████████████████▌                                         | 5/10 [00:43<00:44,  8.98s/it]"
     ]
    },
    {
     "name": "stdout",
     "output_type": "stream",
     "text": [
      "Epoch: 5 | train_loss: 0.1530 | test_loss: 0.1380  \n"
     ]
    },
    {
     "name": "stderr",
     "output_type": "stream",
     "text": [
      " 60%|█████████████████████████████████████████████████▊                                 | 6/10 [00:52<00:36,  9.02s/it]"
     ]
    },
    {
     "name": "stdout",
     "output_type": "stream",
     "text": [
      "Epoch: 6 | train_loss: 0.1562 | test_loss: 0.1485  \n"
     ]
    },
    {
     "name": "stderr",
     "output_type": "stream",
     "text": [
      " 70%|██████████████████████████████████████████████████████████                         | 7/10 [01:01<00:27,  9.04s/it]"
     ]
    },
    {
     "name": "stdout",
     "output_type": "stream",
     "text": [
      "Epoch: 7 | train_loss: 0.1465 | test_loss: 0.1331  \n"
     ]
    },
    {
     "name": "stderr",
     "output_type": "stream",
     "text": [
      " 80%|██████████████████████████████████████████████████████████████████▍                | 8/10 [01:10<00:17,  9.00s/it]"
     ]
    },
    {
     "name": "stdout",
     "output_type": "stream",
     "text": [
      "Epoch: 8 | train_loss: 0.1511 | test_loss: 0.1368  \n"
     ]
    },
    {
     "name": "stderr",
     "output_type": "stream",
     "text": [
      " 90%|██████████████████████████████████████████████████████████████████████████▋        | 9/10 [01:19<00:08,  8.96s/it]"
     ]
    },
    {
     "name": "stdout",
     "output_type": "stream",
     "text": [
      "Epoch: 9 | train_loss: 0.1518 | test_loss: 0.1353  \n"
     ]
    },
    {
     "name": "stderr",
     "output_type": "stream",
     "text": [
      "100%|██████████████████████████████████████████████████████████████████████████████████| 10/10 [01:27<00:00,  8.79s/it]"
     ]
    },
    {
     "name": "stdout",
     "output_type": "stream",
     "text": [
      "Epoch: 10 | train_loss: 0.1501 | test_loss: 0.1293  \n"
     ]
    },
    {
     "name": "stderr",
     "output_type": "stream",
     "text": [
      "\n"
     ]
    }
   ],
   "source": [
    "torch.manual_seed(42)\n",
    "\n",
    "NUM_EPOCHS = 10\n",
    "model = ToxicCommentModel()\n",
    "\n",
    "loss_fn = F.binary_cross_entropy_with_logits\n",
    "optimizer = torch.optim.Adam(params = model.parameters(), lr = 0.01)\n",
    "\n",
    "model_results = train(model=model, \n",
    "                        train_dataloader=train_loader,\n",
    "                        test_dataloader=test_loader,\n",
    "                        loss_fn=loss_fn, \n",
    "                        optimizer=optimizer,\n",
    "                        epochs=NUM_EPOCHS)"
   ]
  },
  {
   "cell_type": "markdown",
   "id": "773cbd17-ea31-4eaa-9496-d68d8f355629",
   "metadata": {},
   "source": [
    "## Plot the loss curves of Model"
   ]
  },
  {
   "cell_type": "code",
   "execution_count": 19,
   "id": "177cca5e-31cb-4a16-bde6-0bd4c7f11364",
   "metadata": {},
   "outputs": [
    {
     "data": {
      "text/plain": [
       "dict_keys(['train_loss', 'test_loss'])"
      ]
     },
     "execution_count": 19,
     "metadata": {},
     "output_type": "execute_result"
    }
   ],
   "source": [
    "model_results.keys()"
   ]
  },
  {
   "cell_type": "code",
   "execution_count": 44,
   "id": "d2cb8759-badb-4d8d-bf1c-0fe037cc08c0",
   "metadata": {},
   "outputs": [
    {
     "data": {
      "image/png": "[encoded data removed]",
      "text/plain": [
       "<Figure size 640x480 with 1 Axes>"
      ]
     },
     "metadata": {},
     "output_type": "display_data"
    }
   ],
   "source": [
    "epochs = len(model_results['train_loss'])\n",
    "\n",
    "# plt.figure(figsize = (15,7))\n",
    "\n",
    "#Plot loss\n",
    "plt.plot(range(epochs), model_results['train_loss'],label ='train_loss')\n",
    "plt.plot(range(epochs), model_results['test_loss'], label = 'test_loss')\n",
    "plt.title('Loss')\n",
    "plt.xlabel('Epochs')\n",
    "plt.legend()\n",
    "\n",
    "plt.show()\n",
    "             "
   ]
  },
  {
   "cell_type": "code",
   "execution_count": 21,
   "id": "f09d90e7-b800-4050-84da-9e6b107d3642",
   "metadata": {},
   "outputs": [],
   "source": [
    "train_loss = test_step(model, train_loader, loss_fn)"
   ]
  },
  {
   "cell_type": "code",
   "execution_count": 22,
   "id": "34f314bc-aedd-46ac-9018-806b9e86cd0b",
   "metadata": {},
   "outputs": [
    {
     "data": {
      "text/plain": [
       "1.6128932237625122"
      ]
     },
     "execution_count": 22,
     "metadata": {},
     "output_type": "execute_result"
    }
   ],
   "source": [
    "train_loss.item()"
   ]
  },
  {
   "cell_type": "code",
   "execution_count": null,
   "id": "d4f7c6ab-c961-444b-b884-677ff424a4b4",
   "metadata": {},
   "outputs": [],
   "source": []
  }
 ],
 "metadata": {
  "kernelspec": {
   "display_name": "Python 3 (ipykernel)",
   "language": "python",
   "name": "python3"
  },
  "language_info": {
   "codemirror_mode": {
    "name": "ipython",
    "version": 3
   },
   "file_extension": ".py",
   "mimetype": "text/x-python",
   "name": "python",
   "nbconvert_exporter": "python",
   "pygments_lexer": "ipython3",
   "version": "3.12.4"
  }
 },
 "nbformat": 4,
 "nbformat_minor": 5
}
